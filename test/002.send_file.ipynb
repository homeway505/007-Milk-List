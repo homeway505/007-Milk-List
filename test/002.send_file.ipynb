{
 "cells": [
  {
   "cell_type": "code",
   "execution_count": 96,
   "metadata": {},
   "outputs": [],
   "source": [
    "import requests\n",
    "import base64\n",
    "import json\n",
    "\n",
    "# url = \"https://milk-list.azurewebsites.net/http_trigger\"\n",
    "\n",
    "url = \"http://localhost:7071/http_trigger\"\n",
    "\n",
    "# Encode the file content to base64\n",
    "with open('31.01.24 Wed.xlsx', 'rb') as file:\n",
    "    file_content_encoded = base64.b64encode(file.read()).decode('utf-8')\n",
    "\n",
    "# Prepare the payload as JSON with the 'FileContent' key\n",
    "payload = json.dumps({\n",
    "    'FileContent': file_content_encoded\n",
    "})\n",
    "\n",
    "headers = {\n",
    "    'Content-Type': 'application/json'\n",
    "}"
   ]
  },
  {
   "cell_type": "code",
   "execution_count": 97,
   "metadata": {},
   "outputs": [],
   "source": [
    "response = requests.post(url, headers=headers, data=payload)"
   ]
  },
  {
   "cell_type": "code",
   "execution_count": 98,
   "metadata": {},
   "outputs": [
    {
     "data": {
      "text/plain": [
       "<Response [200]>"
      ]
     },
     "execution_count": 98,
     "metadata": {},
     "output_type": "execute_result"
    }
   ],
   "source": [
    "response"
   ]
  },
  {
   "cell_type": "code",
   "execution_count": 99,
   "metadata": {},
   "outputs": [
    {
     "data": {
      "text/plain": [
       "'[{\"Lorry order\":1.0,\"Destination \":\"Sacrewell\"},{\"Lorry order\":3.0,\"Destination \":\"Central London\"},{\"Lorry order\":4.0,\"Destination \":\"Warninglid\"},{\"Lorry order\":4.0,\"Destination \":\"Lodge Farm\"},{\"Lorry order\":5.0,\"Destination \":\"Waltham\"},{\"Lorry order\":5.0,\"Destination \":\"Norton\"},{\"Lorry order\":6.0,\"Destination \":\"Poole\"},{\"Lorry order\":7.0,\"Destination \":\"Oxford\"},{\"Lorry order\":7.0,\"Destination \":\"Castle Bromwich\"},{\"Lorry order\":8.0,\"Destination \":\"Wellington\"},{\"Lorry order\":9.0,\"Destination \":\"Bodmin\"},{\"Lorry order\":10.0,\"Destination \":\"Ledbury\"},{\"Lorry order\":10.0,\"Destination \":\"Cardiff\"},{\"Lorry order\":11.0,\"Destination \":\"Bristol\"}]'"
      ]
     },
     "execution_count": 99,
     "metadata": {},
     "output_type": "execute_result"
    }
   ],
   "source": [
    "response.text"
   ]
  }
 ],
 "metadata": {
  "kernelspec": {
   "display_name": "Python 3",
   "language": "python",
   "name": "python3"
  },
  "language_info": {
   "codemirror_mode": {
    "name": "ipython",
    "version": 3
   },
   "file_extension": ".py",
   "mimetype": "text/x-python",
   "name": "python",
   "nbconvert_exporter": "python",
   "pygments_lexer": "ipython3",
   "version": "3.9.6"
  }
 },
 "nbformat": 4,
 "nbformat_minor": 2
}
