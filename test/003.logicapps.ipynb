{
 "cells": [
  {
   "cell_type": "code",
   "execution_count": 4,
   "metadata": {},
   "outputs": [
    {
     "name": "stdout",
     "output_type": "stream",
     "text": [
      "[{\"Lorry order\":1.0,\"Destination \":\"Sacrewell\"},{\"Lorry order\":3.0,\"Destination \":\"Central London\"},{\"Lorry order\":4.0,\"Destination \":\"Warninglid\"},{\"Lorry order\":4.0,\"Destination \":\"Lodge Farm\"},{\"Lorry order\":5.0,\"Destination \":\"Waltham\"},{\"Lorry order\":5.0,\"Destination \":\"Norton\"},{\"Lorry order\":6.0,\"Destination \":\"Poole\"},{\"Lorry order\":7.0,\"Destination \":\"Oxford\"},{\"Lorry order\":7.0,\"Destination \":\"Castle Bromwich\"},{\"Lorry order\":8.0,\"Destination \":\"Wellington\"},{\"Lorry order\":9.0,\"Destination \":\"Bodmin\"},{\"Lorry order\":10.0,\"Destination \":\"Ledbury\"},{\"Lorry order\":10.0,\"Destination \":\"Cardiff\"},{\"Lorry order\":11.0,\"Destination \":\"Bristol\"}]\n"
     ]
    }
   ],
   "source": [
    "import requests\n",
    "import base64\n",
    "import json\n",
    "\n",
    "url = \"https://prod-13.uksouth.logic.azure.com:443/workflows/04093a927ea8477b978c5efc98d2a2cd/triggers/manual/paths/invoke?api-version=2016-10-01&sp=%2Ftriggers%2Fmanual%2Frun&sv=1.0&sig=lciew6JIvvEhsDxEmUsv0U8GuKfBJnBkVGE_1EZx8_g\"\n",
    "\n",
    "# url = \"http://localhost:7071/process_excel\"\n",
    "\n",
    "# Encode the file content to base64\n",
    "with open('31.01.24 Wed.xlsx', 'rb') as file:\n",
    "    file_content_encoded = base64.b64encode(file.read()).decode('utf-8')\n",
    "\n",
    "# Prepare the payload as JSON with the 'FileContent' key\n",
    "payload = json.dumps({\n",
    "    'FileContent': file_content_encoded\n",
    "})\n",
    "\n",
    "headers = {\n",
    "    'Content-Type': 'application/json'\n",
    "}\n",
    "\n",
    "response = requests.post(url, headers=headers, data=payload)\n",
    "\n",
    "print(response.text)"
   ]
  }
 ],
 "metadata": {
  "kernelspec": {
   "display_name": "Python 3",
   "language": "python",
   "name": "python3"
  },
  "language_info": {
   "codemirror_mode": {
    "name": "ipython",
    "version": 3
   },
   "file_extension": ".py",
   "mimetype": "text/x-python",
   "name": "python",
   "nbconvert_exporter": "python",
   "pygments_lexer": "ipython3",
   "version": "3.9.6"
  }
 },
 "nbformat": 4,
 "nbformat_minor": 2
}
