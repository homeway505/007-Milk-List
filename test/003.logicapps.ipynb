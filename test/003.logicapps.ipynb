{
 "cells": [
  {
   "cell_type": "code",
   "execution_count": 1,
   "metadata": {},
   "outputs": [
    {
     "name": "stderr",
     "output_type": "stream",
     "text": [
      "/Users/davidchen/Library/Python/3.9/lib/python/site-packages/urllib3/__init__.py:35: NotOpenSSLWarning: urllib3 v2 only supports OpenSSL 1.1.1+, currently the 'ssl' module is compiled with 'LibreSSL 2.8.3'. See: https://github.com/urllib3/urllib3/issues/3020\n",
      "  warnings.warn(\n"
     ]
    },
    {
     "name": "stdout",
     "output_type": "stream",
     "text": [
      "{\"error\":{\"code\":\"NoResponse\",\"message\":\"The server did not receive a response from an upstream server. Request tracking id '08584940312900174567644416426CU18'.\"}}\n"
     ]
    }
   ],
   "source": [
    "import requests\n",
    "import base64\n",
    "import json\n",
    "\n",
    "url = \"https://prod-13.uksouth.logic.azure.com:443/workflows/04093a927ea8477b978c5efc98d2a2cd/triggers/manual/paths/invoke?api-version=2016-10-01&sp=%2Ftriggers%2Fmanual%2Frun&sv=1.0&sig=lciew6JIvvEhsDxEmUsv0U8GuKfBJnBkVGE_1EZx8_g\"\n",
    "\n",
    "# url = \"http://localhost:7071/process_excel\"\n",
    "\n",
    "# Encode the file content to base64\n",
    "with open('31.01.24 Wed.xlsx', 'rb') as file:\n",
    "    file_content_encoded = base64.b64encode(file.read()).decode('utf-8')\n",
    "\n",
    "# Prepare the payload as JSON with the 'FileContent' key\n",
    "payload = json.dumps({\n",
    "    'FileContent': file_content_encoded\n",
    "})\n",
    "\n",
    "headers = {\n",
    "    'Content-Type': 'application/json'\n",
    "}\n",
    "\n",
    "response = requests.post(url, headers=headers, data=payload)\n",
    "\n",
    "print(response.text)"
   ]
  }
 ],
 "metadata": {
  "kernelspec": {
   "display_name": "Python 3",
   "language": "python",
   "name": "python3"
  },
  "language_info": {
   "codemirror_mode": {
    "name": "ipython",
    "version": 3
   },
   "file_extension": ".py",
   "mimetype": "text/x-python",
   "name": "python",
   "nbconvert_exporter": "python",
   "pygments_lexer": "ipython3",
   "version": "3.9.6"
  }
 },
 "nbformat": 4,
 "nbformat_minor": 2
}
